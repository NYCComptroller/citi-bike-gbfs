{
 "cells": [
  {
   "cell_type": "markdown",
   "metadata": {},
   "source": [
    "## Compare demographics\n",
    "\n",
    "This notebook joins Census Tracts to entire service area and identified poor serivce areas, then aggregates demographics across each area and compares the two.\n",
    "\n",
    "You will need to first load Census data with [`Get Census data`](Get%20Census%20data.ipynb)\n",
    "\n",
    "And you will need to to collect Citi Bike data, then, run [`Build dataset`](../Build%20dataset.ipynb), [`Build service measures`](Build%20service%20measures.ipynb), and [`Compute clusters of poor service`](Compute%20clusters%20of%20poor%20service.ipynb).\n",
    "\n",
    "\n",
    "Or, use this as a template for comparing demographics of any other serivce areas. \n"
   ]
  },
  {
   "cell_type": "code",
   "execution_count": 1,
   "metadata": {},
   "outputs": [],
   "source": [
    "import pandas as pd\n",
    "import geopandas as gpd\n",
    "import altair as alt"
   ]
  },
  {
   "cell_type": "code",
   "execution_count": 2,
   "metadata": {},
   "outputs": [],
   "source": [
    "tracts = (\n",
    "    gpd.read_file('../tract_data.geojson')\n",
    "    .to_crs(2263)\n",
    ")"
   ]
  },
  {
   "cell_type": "code",
   "execution_count": 3,
   "metadata": {},
   "outputs": [],
   "source": [
    "stations_geo = (\n",
    "    gpd.read_file('../stations_geo.geojson')\n",
    "    .to_crs(2263)\n",
    ")"
   ]
  },
  {
   "cell_type": "code",
   "execution_count": 4,
   "metadata": {},
   "outputs": [],
   "source": [
    "poor_service_areas_buffer = (\n",
    "    gpd.read_file('../poor_service_areas_buffer.geojson')\n",
    "    .to_crs(2263)\n",
    ")"
   ]
  },
  {
   "cell_type": "code",
   "execution_count": 5,
   "metadata": {},
   "outputs": [],
   "source": [
    "service_area = gpd.GeoDataFrame(\n",
    "    geometry=[(\n",
    "        stations_geo.geometry\n",
    "        .buffer(500)\n",
    "        .unary_union\n",
    "    )],\n",
    "    crs=2263\n",
    ")"
   ]
  },
  {
   "cell_type": "code",
   "execution_count": 6,
   "metadata": {},
   "outputs": [],
   "source": [
    "tracts_in_service_area = (\n",
    "    tracts\n",
    "    .sjoin(service_area)\n",
    ")"
   ]
  },
  {
   "cell_type": "code",
   "execution_count": 7,
   "metadata": {},
   "outputs": [],
   "source": [
    "tracts_in_poor_service_areas_buffer = (\n",
    "    tracts\n",
    "    .sjoin(\n",
    "        poor_service_areas_buffer\n",
    "    )\n",
    ")"
   ]
  },
  {
   "cell_type": "code",
   "execution_count": 8,
   "metadata": {},
   "outputs": [
    {
     "data": {
      "text/plain": [
       "4672870.0"
      ]
     },
     "execution_count": 8,
     "metadata": {},
     "output_type": "execute_result"
    }
   ],
   "source": [
    "tracts_in_service_area['Total population__2020'].sum()"
   ]
  },
  {
   "cell_type": "code",
   "execution_count": 9,
   "metadata": {},
   "outputs": [
    {
     "data": {
      "text/plain": [
       "942156.0"
      ]
     },
     "execution_count": 9,
     "metadata": {},
     "output_type": "execute_result"
    }
   ],
   "source": [
    "tracts_in_poor_service_areas_buffer['Total population__2020'].sum()"
   ]
  },
  {
   "cell_type": "code",
   "execution_count": 10,
   "metadata": {},
   "outputs": [],
   "source": [
    "comparison_demog = (\n",
    "    tracts_in_service_area\n",
    "    [[\n",
    "        'White__2020', \n",
    "        'Black__2020', \n",
    "        'Asian__2020', \n",
    "        'Hispanic__2020',\n",
    "        'below_150_pct_poverty_level__ACS_2021'\n",
    "    ]]\n",
    "    .sum()\n",
    "    .div(\n",
    "        tracts_in_service_area\n",
    "        ['Total population__2020']\n",
    "        .sum()\n",
    "    )\n",
    "    .rename('entire service area')\n",
    "    .to_frame()\n",
    "    .join(\n",
    "        tracts_in_poor_service_areas_buffer\n",
    "        [[\n",
    "            'White__2020', \n",
    "            'Black__2020', \n",
    "            'Asian__2020', \n",
    "            'Hispanic__2020',\n",
    "            'below_150_pct_poverty_level__ACS_2021'\n",
    "        ]]\n",
    "        .sum()\n",
    "        .div(\n",
    "            tracts_in_poor_service_areas_buffer\n",
    "            ['Total population__2020']\n",
    "            .sum()\n",
    "        )\n",
    "        .rename('poor service areas')\n",
    "    )\n",
    "    .reset_index()\n",
    "    .melt(\n",
    "        id_vars='index',\n",
    "        var_name='area',\n",
    "        value_name='pct of population'\n",
    "    )\n",
    "    .replace({\n",
    "        'White__2020':'White (%)', \n",
    "        'Black__2020':'Black (%)', \n",
    "        'Asian__2020':'Asian (%)', \n",
    "        'Hispanic__2020':'Hispanic/Latino (%)',\n",
    "        'below_150_pct_poverty_level__ACS_2021':r'up to 150% of poverty level (%)'\n",
    "    })\n",
    "    .rename(columns={'index':'race/demographic'})\n",
    ")"
   ]
  },
  {
   "cell_type": "code",
   "execution_count": 11,
   "metadata": {},
   "outputs": [
    {
     "data": {
      "text/html": [
       "\n",
       "<style>\n",
       "  #altair-viz-d12419c043fd4f78be5dfb878702d409.vega-embed {\n",
       "    width: 100%;\n",
       "    display: flex;\n",
       "  }\n",
       "\n",
       "  #altair-viz-d12419c043fd4f78be5dfb878702d409.vega-embed details,\n",
       "  #altair-viz-d12419c043fd4f78be5dfb878702d409.vega-embed details summary {\n",
       "    position: relative;\n",
       "  }\n",
       "</style>\n",
       "<div id=\"altair-viz-d12419c043fd4f78be5dfb878702d409\"></div>\n",
       "<script type=\"text/javascript\">\n",
       "  var VEGA_DEBUG = (typeof VEGA_DEBUG == \"undefined\") ? {} : VEGA_DEBUG;\n",
       "  (function(spec, embedOpt){\n",
       "    let outputDiv = document.currentScript.previousElementSibling;\n",
       "    if (outputDiv.id !== \"altair-viz-d12419c043fd4f78be5dfb878702d409\") {\n",
       "      outputDiv = document.getElementById(\"altair-viz-d12419c043fd4f78be5dfb878702d409\");\n",
       "    }\n",
       "    const paths = {\n",
       "      \"vega\": \"https://cdn.jsdelivr.net/npm/vega@5?noext\",\n",
       "      \"vega-lib\": \"https://cdn.jsdelivr.net/npm/vega-lib?noext\",\n",
       "      \"vega-lite\": \"https://cdn.jsdelivr.net/npm/vega-lite@5.8.0?noext\",\n",
       "      \"vega-embed\": \"https://cdn.jsdelivr.net/npm/vega-embed@6?noext\",\n",
       "    };\n",
       "\n",
       "    function maybeLoadScript(lib, version) {\n",
       "      var key = `${lib.replace(\"-\", \"\")}_version`;\n",
       "      return (VEGA_DEBUG[key] == version) ?\n",
       "        Promise.resolve(paths[lib]) :\n",
       "        new Promise(function(resolve, reject) {\n",
       "          var s = document.createElement('script');\n",
       "          document.getElementsByTagName(\"head\")[0].appendChild(s);\n",
       "          s.async = true;\n",
       "          s.onload = () => {\n",
       "            VEGA_DEBUG[key] = version;\n",
       "            return resolve(paths[lib]);\n",
       "          };\n",
       "          s.onerror = () => reject(`Error loading script: ${paths[lib]}`);\n",
       "          s.src = paths[lib];\n",
       "        });\n",
       "    }\n",
       "\n",
       "    function showError(err) {\n",
       "      outputDiv.innerHTML = `<div class=\"error\" style=\"color:red;\">${err}</div>`;\n",
       "      throw err;\n",
       "    }\n",
       "\n",
       "    function displayChart(vegaEmbed) {\n",
       "      vegaEmbed(outputDiv, spec, embedOpt)\n",
       "        .catch(err => showError(`Javascript Error: ${err.message}<br>This usually means there's a typo in your chart specification. See the javascript console for the full traceback.`));\n",
       "    }\n",
       "\n",
       "    if(typeof define === \"function\" && define.amd) {\n",
       "      requirejs.config({paths});\n",
       "      require([\"vega-embed\"], displayChart, err => showError(`Error loading script: ${err.message}`));\n",
       "    } else {\n",
       "      maybeLoadScript(\"vega\", \"5\")\n",
       "        .then(() => maybeLoadScript(\"vega-lite\", \"5.8.0\"))\n",
       "        .then(() => maybeLoadScript(\"vega-embed\", \"6\"))\n",
       "        .catch(showError)\n",
       "        .then(() => displayChart(vegaEmbed));\n",
       "    }\n",
       "  })({\"config\": {\"view\": {\"continuousWidth\": 300, \"continuousHeight\": 300}}, \"vconcat\": [{\"data\": {\"name\": \"data-8768b7ba2a8ba456ca51c222b7a06d53\"}, \"mark\": {\"type\": \"bar\"}, \"encoding\": {\"color\": {\"field\": \"area\", \"type\": \"nominal\"}, \"x\": {\"axis\": {\"format\": \"%\", \"labelFlush\": false}, \"field\": \"pct of population\", \"title\": \"\", \"type\": \"quantitative\"}, \"y\": {\"axis\": {\"titlePadding\": 20, \"titleX\": -160}, \"field\": \"race/demographic\", \"title\": \"Race/ethnicity\", \"type\": \"nominal\"}, \"yOffset\": {\"field\": \"area\", \"type\": \"nominal\"}}}, {\"data\": {\"name\": \"data-d0e1255e6bc721e2587e5f783fc170cf\"}, \"mark\": {\"type\": \"bar\"}, \"encoding\": {\"color\": {\"field\": \"area\", \"type\": \"nominal\"}, \"x\": {\"axis\": {\"format\": \"%\", \"labelFlush\": false}, \"field\": \"pct of population\", \"title\": \"Percent of population\", \"type\": \"quantitative\"}, \"y\": {\"axis\": {\"labelLimit\": 10000, \"titlePadding\": 20, \"titleX\": -160}, \"field\": \"race/demographic\", \"title\": \"Poverty\", \"type\": \"nominal\"}, \"yOffset\": {\"field\": \"area\", \"type\": \"nominal\"}}}], \"resolve\": {\"scale\": {\"x\": \"shared\"}}, \"$schema\": \"https://vega.github.io/schema/vega-lite/v5.8.0.json\", \"datasets\": {\"data-8768b7ba2a8ba456ca51c222b7a06d53\": [{\"race/demographic\": \"White (%)\", \"area\": \"entire service area\", \"pct of population\": 0.3194612732646104}, {\"race/demographic\": \"Black (%)\", \"area\": \"entire service area\", \"pct of population\": 0.17935743986029998}, {\"race/demographic\": \"Asian (%)\", \"area\": \"entire service area\", \"pct of population\": 0.11892177612473705}, {\"race/demographic\": \"Hispanic/Latino (%)\", \"area\": \"entire service area\", \"pct of population\": 0.33732759524660433}, {\"race/demographic\": \"White (%)\", \"area\": \"poor service areas\", \"pct of population\": 0.18371373742777206}, {\"race/demographic\": \"Black (%)\", \"area\": \"poor service areas\", \"pct of population\": 0.15916790849922943}, {\"race/demographic\": \"Asian (%)\", \"area\": \"poor service areas\", \"pct of population\": 0.12968977536628754}, {\"race/demographic\": \"Hispanic/Latino (%)\", \"area\": \"poor service areas\", \"pct of population\": 0.4934671116035986}], \"data-d0e1255e6bc721e2587e5f783fc170cf\": [{\"race/demographic\": \"up to 150% of poverty level (%)\", \"area\": \"entire service area\", \"pct of population\": 0.26937770577824766}, {\"race/demographic\": \"up to 150% of poverty level (%)\", \"area\": \"poor service areas\", \"pct of population\": 0.31073198069109575}]}}, {\"mode\": \"vega-lite\"});\n",
       "</script>"
      ],
      "text/plain": [
       "alt.VConcatChart(...)"
      ]
     },
     "execution_count": 11,
     "metadata": {},
     "output_type": "execute_result"
    }
   ],
   "source": [
    "comparison_demog_chart = ((\n",
    "    (\n",
    "    comparison_demog\n",
    "    [\n",
    "        comparison_demog['race/demographic'] != r'up to 150% of poverty level (%)'\n",
    "    ]\n",
    "    )\n",
    "    .pipe(alt.Chart)\n",
    "    .mark_bar()\n",
    "    .encode(\n",
    "        y=alt.Y(\n",
    "            'race/demographic',\n",
    "            title='Race/ethnicity',\n",
    "            axis=alt.Axis(\n",
    "                titlePadding=20,\n",
    "                titleX=-160\n",
    "                # titleAlign='center',\n",
    "                # titleBaseline='top'\n",
    "            )\n",
    "        ),\n",
    "        x=alt.X(\n",
    "            'pct of population',\n",
    "            title='',\n",
    "            axis=alt.Axis(\n",
    "                format='%',\n",
    "                labelFlush=False\n",
    "            )\n",
    "        ),\n",
    "        color=alt.Color(\n",
    "            'area',\n",
    "        ),\n",
    "        yOffset='area',\n",
    "    )\n",
    ") & (\n",
    "    (\n",
    "    comparison_demog\n",
    "    [\n",
    "        comparison_demog['race/demographic'] == r'up to 150% of poverty level (%)'\n",
    "    ]\n",
    "    )\n",
    "    .pipe(alt.Chart)\n",
    "    .mark_bar()\n",
    "    .encode(\n",
    "        y=alt.Y(\n",
    "            'race/demographic',\n",
    "            title='Poverty',\n",
    "            axis=alt.Axis(\n",
    "                titlePadding=20,\n",
    "                titleX=-160,\n",
    "                labelLimit=10000,\n",
    "            )\n",
    "        ),\n",
    "        x=alt.X(\n",
    "            'pct of population',\n",
    "            title='Percent of population',\n",
    "            axis=alt.Axis(\n",
    "                format='%',\n",
    "                labelFlush=False\n",
    "            )\n",
    "        ),\n",
    "        color=alt.Color(\n",
    "            'area',\n",
    "        ),\n",
    "        yOffset='area',\n",
    "    )\n",
    ")).resolve_scale(x='shared')\n",
    "\n",
    "comparison_demog_chart"
   ]
  }
 ],
 "metadata": {
  "kernelspec": {
   "display_name": "citibike-analysis",
   "language": "python",
   "name": "python3"
  },
  "language_info": {
   "codemirror_mode": {
    "name": "ipython",
    "version": 3
   },
   "file_extension": ".py",
   "mimetype": "text/x-python",
   "name": "python",
   "nbconvert_exporter": "python",
   "pygments_lexer": "ipython3",
   "version": "3.11.3"
  }
 },
 "nbformat": 4,
 "nbformat_minor": 2
}
